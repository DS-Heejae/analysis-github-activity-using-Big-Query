{
 "cells": [
  {
   "cell_type": "markdown",
   "metadata": {},
   "source": [
    "### Objective\n",
    "\n",
    "Read and understand the Data Schema of the github archive"
   ]
  },
  {
   "cell_type": "markdown",
   "metadata": {},
   "source": [
    "### Load Packages"
   ]
  },
  {
   "cell_type": "code",
   "execution_count": 144,
   "metadata": {},
   "outputs": [],
   "source": [
    "%matplotlib inline\n",
    "\n",
    "import os\n",
    "import pandas as pd\n",
    "import matplotlib.pyplot as plt\n",
    "from google.cloud import bigquery\n",
    "\n",
    "# setup credentials\n",
    "os.environ['GOOGLE_APPLICATION_CREDENTIALS'] = (\n",
    "    os.path.abspath(\"../credentials/github-bigquery.json\"))"
   ]
  },
  {
   "cell_type": "code",
   "execution_count": 54,
   "metadata": {},
   "outputs": [],
   "source": [
    "%load_ext google.cloud.bigquery"
   ]
  },
  {
   "cell_type": "markdown",
   "metadata": {},
   "source": [
    "### Show Schema\n",
    "\n",
    "Github's activity Schema has changed since 2015.\n",
    "\n",
    "* Activity archives are available starting 2/12/2011.\n",
    "* Activity archives for dates between 2/12/2011-12/31/2014 was recorded from the (now deprecated) Timeline API.\n",
    "* Activity archives for dates starting 1/1/2015 is recorded from the Events API."
   ]
  },
  {
   "cell_type": "markdown",
   "metadata": {},
   "source": [
    "#### Schema on Timeline API"
   ]
  },
  {
   "cell_type": "code",
   "execution_count": 33,
   "metadata": {},
   "outputs": [
    {
     "name": "stdout",
     "output_type": "stream",
     "text": [
      "type: STRING\n",
      "public: BOOLEAN\n",
      "payload: STRING\n",
      "repo: RECORD\n",
      "\t - id: INTEGER\n",
      "\t - name: STRING\n",
      "\t - url: STRING\n",
      "actor: RECORD\n",
      "\t - id: INTEGER\n",
      "\t - login: STRING\n",
      "\t - gravatar_id: STRING\n",
      "\t - avatar_url: STRING\n",
      "\t - url: STRING\n",
      "org: RECORD\n",
      "\t - id: INTEGER\n",
      "\t - login: STRING\n",
      "\t - gravatar_id: STRING\n",
      "\t - avatar_url: STRING\n",
      "\t - url: STRING\n",
      "created_at: TIMESTAMP\n",
      "id: STRING\n",
      "other: STRING\n"
     ]
    }
   ],
   "source": [
    "client = bigquery.Client()\n",
    "query = (client.query(\n",
    "    '''\n",
    "    SELECT * \n",
    "    FROM githubarchive.day.20120101\n",
    "    WHERE RAND() < 1000 / (SELECT COUNT(*) FROM githubarchive.day.20120101)\n",
    "    '''))\n",
    "result = query.result() # get query result\n",
    "\n",
    "for field in result.schema:\n",
    "    fname = field.name\n",
    "    ftype = field.field_type\n",
    "    \n",
    "    print(f\"{fname}: {ftype}\")\n",
    "    if ftype == 'RECORD':\n",
    "        for sub_f in field.fields:\n",
    "            sub_fname = sub_f.name\n",
    "            sub_ftype = sub_f.field_type\n",
    "            print(f\"\\t - {sub_fname}: {sub_ftype}\")"
   ]
  },
  {
   "cell_type": "code",
   "execution_count": 34,
   "metadata": {},
   "outputs": [
    {
     "data": {
      "text/html": [
       "<div>\n",
       "<style scoped>\n",
       "    .dataframe tbody tr th:only-of-type {\n",
       "        vertical-align: middle;\n",
       "    }\n",
       "\n",
       "    .dataframe tbody tr th {\n",
       "        vertical-align: top;\n",
       "    }\n",
       "\n",
       "    .dataframe thead th {\n",
       "        text-align: right;\n",
       "    }\n",
       "</style>\n",
       "<table border=\"1\" class=\"dataframe\">\n",
       "  <thead>\n",
       "    <tr style=\"text-align: right;\">\n",
       "      <th></th>\n",
       "      <th>type</th>\n",
       "      <th>public</th>\n",
       "      <th>payload</th>\n",
       "      <th>repo</th>\n",
       "      <th>actor</th>\n",
       "      <th>org</th>\n",
       "      <th>created_at</th>\n",
       "      <th>id</th>\n",
       "      <th>other</th>\n",
       "    </tr>\n",
       "  </thead>\n",
       "  <tbody>\n",
       "    <tr>\n",
       "      <th>0</th>\n",
       "      <td>GistEvent</td>\n",
       "      <td>True</td>\n",
       "      <td>{\"gist\":{\"created_at\":\"2012-01-01T16:38:03Z\",\"...</td>\n",
       "      <td>{'id': None, 'name': '/', 'url': 'https://api....</td>\n",
       "      <td>{'id': None, 'login': None, 'gravatar_id': Non...</td>\n",
       "      <td>None</td>\n",
       "      <td>2012-01-01 16:38:04+00:00</td>\n",
       "      <td>1508551943</td>\n",
       "      <td>None</td>\n",
       "    </tr>\n",
       "    <tr>\n",
       "      <th>1</th>\n",
       "      <td>GistEvent</td>\n",
       "      <td>True</td>\n",
       "      <td>{\"gist\":{\"created_at\":\"2012-01-01T03:02:27Z\",\"...</td>\n",
       "      <td>{'id': None, 'name': '/', 'url': 'https://api....</td>\n",
       "      <td>{'id': None, 'login': None, 'gravatar_id': Non...</td>\n",
       "      <td>None</td>\n",
       "      <td>2012-01-01 03:02:28+00:00</td>\n",
       "      <td>1508519426</td>\n",
       "      <td>None</td>\n",
       "    </tr>\n",
       "    <tr>\n",
       "      <th>2</th>\n",
       "      <td>PushEvent</td>\n",
       "      <td>True</td>\n",
       "      <td>{\"ref\":\"refs/heads/master\",\"push_id\":55779768,...</td>\n",
       "      <td>{'id': 1795842, 'name': 'ali/Euler', 'url': 'h...</td>\n",
       "      <td>{'id': 515861, 'login': 'ali', 'gravatar_id': ...</td>\n",
       "      <td>None</td>\n",
       "      <td>2012-01-01 18:18:38+00:00</td>\n",
       "      <td>1508557785</td>\n",
       "      <td>None</td>\n",
       "    </tr>\n",
       "    <tr>\n",
       "      <th>3</th>\n",
       "      <td>FollowEvent</td>\n",
       "      <td>True</td>\n",
       "      <td>{\"target\":{\"created_at\":\"2008-04-03T18:24:17Z\"...</td>\n",
       "      <td>{'id': None, 'name': '/', 'url': 'https://api....</td>\n",
       "      <td>{'id': 344338, 'login': 'ery', 'gravatar_id': ...</td>\n",
       "      <td>None</td>\n",
       "      <td>2012-01-01 12:31:00+00:00</td>\n",
       "      <td>1508540739</td>\n",
       "      <td>None</td>\n",
       "    </tr>\n",
       "    <tr>\n",
       "      <th>4</th>\n",
       "      <td>PushEvent</td>\n",
       "      <td>True</td>\n",
       "      <td>{\"ref\":\"refs/heads/ldo\",\"push_id\":55760708,\"co...</td>\n",
       "      <td>{'id': 3025961, 'name': 'ldo/ShaderTools', 'ur...</td>\n",
       "      <td>{'id': 37975, 'login': 'ldo', 'gravatar_id': '...</td>\n",
       "      <td>None</td>\n",
       "      <td>2012-01-01 03:04:26+00:00</td>\n",
       "      <td>1508519494</td>\n",
       "      <td>None</td>\n",
       "    </tr>\n",
       "  </tbody>\n",
       "</table>\n",
       "</div>"
      ],
      "text/plain": [
       "          type  public                                            payload  \\\n",
       "0    GistEvent    True  {\"gist\":{\"created_at\":\"2012-01-01T16:38:03Z\",\"...   \n",
       "1    GistEvent    True  {\"gist\":{\"created_at\":\"2012-01-01T03:02:27Z\",\"...   \n",
       "2    PushEvent    True  {\"ref\":\"refs/heads/master\",\"push_id\":55779768,...   \n",
       "3  FollowEvent    True  {\"target\":{\"created_at\":\"2008-04-03T18:24:17Z\"...   \n",
       "4    PushEvent    True  {\"ref\":\"refs/heads/ldo\",\"push_id\":55760708,\"co...   \n",
       "\n",
       "                                                repo  \\\n",
       "0  {'id': None, 'name': '/', 'url': 'https://api....   \n",
       "1  {'id': None, 'name': '/', 'url': 'https://api....   \n",
       "2  {'id': 1795842, 'name': 'ali/Euler', 'url': 'h...   \n",
       "3  {'id': None, 'name': '/', 'url': 'https://api....   \n",
       "4  {'id': 3025961, 'name': 'ldo/ShaderTools', 'ur...   \n",
       "\n",
       "                                               actor   org  \\\n",
       "0  {'id': None, 'login': None, 'gravatar_id': Non...  None   \n",
       "1  {'id': None, 'login': None, 'gravatar_id': Non...  None   \n",
       "2  {'id': 515861, 'login': 'ali', 'gravatar_id': ...  None   \n",
       "3  {'id': 344338, 'login': 'ery', 'gravatar_id': ...  None   \n",
       "4  {'id': 37975, 'login': 'ldo', 'gravatar_id': '...  None   \n",
       "\n",
       "                 created_at          id other  \n",
       "0 2012-01-01 16:38:04+00:00  1508551943  None  \n",
       "1 2012-01-01 03:02:28+00:00  1508519426  None  \n",
       "2 2012-01-01 18:18:38+00:00  1508557785  None  \n",
       "3 2012-01-01 12:31:00+00:00  1508540739  None  \n",
       "4 2012-01-01 03:04:26+00:00  1508519494  None  "
      ]
     },
     "execution_count": 34,
     "metadata": {},
     "output_type": "execute_result"
    }
   ],
   "source": [
    "before_df = query.to_dataframe() \n",
    "before_df.head()"
   ]
  },
  {
   "cell_type": "markdown",
   "metadata": {},
   "source": [
    "#### Schema on Events API"
   ]
  },
  {
   "cell_type": "code",
   "execution_count": 30,
   "metadata": {},
   "outputs": [
    {
     "name": "stdout",
     "output_type": "stream",
     "text": [
      "type: STRING\n",
      "public: BOOLEAN\n",
      "payload: STRING\n",
      "repo: RECORD\n",
      "\t - id: INTEGER\n",
      "\t - name: STRING\n",
      "\t - url: STRING\n",
      "actor: RECORD\n",
      "\t - id: INTEGER\n",
      "\t - login: STRING\n",
      "\t - gravatar_id: STRING\n",
      "\t - avatar_url: STRING\n",
      "\t - url: STRING\n",
      "org: RECORD\n",
      "\t - id: INTEGER\n",
      "\t - login: STRING\n",
      "\t - gravatar_id: STRING\n",
      "\t - avatar_url: STRING\n",
      "\t - url: STRING\n",
      "created_at: TIMESTAMP\n",
      "id: STRING\n",
      "other: STRING\n"
     ]
    }
   ],
   "source": [
    "client = bigquery.Client()\n",
    "query = (client.query(\n",
    "    '''\n",
    "    SELECT * \n",
    "    FROM githubarchive.day.20160101\n",
    "    WHERE RAND() < 1000 / (SELECT COUNT(*) FROM githubarchive.day.20160101)\n",
    "    '''))\n",
    "result = query.result() # get query result\n",
    "\n",
    "for field in result.schema:\n",
    "    fname = field.name\n",
    "    ftype = field.field_type\n",
    "    \n",
    "    print(f\"{fname}: {ftype}\")\n",
    "    if ftype == 'RECORD':\n",
    "        for sub_f in field.fields:\n",
    "            sub_fname = sub_f.name\n",
    "            sub_ftype = sub_f.field_type\n",
    "            print(f\"\\t - {sub_fname}: {sub_ftype}\")"
   ]
  },
  {
   "cell_type": "code",
   "execution_count": 31,
   "metadata": {},
   "outputs": [
    {
     "data": {
      "text/html": [
       "<div>\n",
       "<style scoped>\n",
       "    .dataframe tbody tr th:only-of-type {\n",
       "        vertical-align: middle;\n",
       "    }\n",
       "\n",
       "    .dataframe tbody tr th {\n",
       "        vertical-align: top;\n",
       "    }\n",
       "\n",
       "    .dataframe thead th {\n",
       "        text-align: right;\n",
       "    }\n",
       "</style>\n",
       "<table border=\"1\" class=\"dataframe\">\n",
       "  <thead>\n",
       "    <tr style=\"text-align: right;\">\n",
       "      <th></th>\n",
       "      <th>type</th>\n",
       "      <th>public</th>\n",
       "      <th>payload</th>\n",
       "      <th>repo</th>\n",
       "      <th>actor</th>\n",
       "      <th>org</th>\n",
       "      <th>created_at</th>\n",
       "      <th>id</th>\n",
       "      <th>other</th>\n",
       "    </tr>\n",
       "  </thead>\n",
       "  <tbody>\n",
       "    <tr>\n",
       "      <th>0</th>\n",
       "      <td>PushEvent</td>\n",
       "      <td>True</td>\n",
       "      <td>{\"push_id\":920058756,\"size\":1,\"distinct_size\":...</td>\n",
       "      <td>{'id': 41537695, 'name': 'vamen/ksit', 'url': ...</td>\n",
       "      <td>{'id': 12099000, 'login': 'vamen', 'gravatar_i...</td>\n",
       "      <td>None</td>\n",
       "      <td>2016-01-01 19:57:17+00:00</td>\n",
       "      <td>3487334586</td>\n",
       "      <td>None</td>\n",
       "    </tr>\n",
       "    <tr>\n",
       "      <th>1</th>\n",
       "      <td>PushEvent</td>\n",
       "      <td>True</td>\n",
       "      <td>{\"push_id\":920125576,\"size\":9,\"distinct_size\":...</td>\n",
       "      <td>{'id': 1164088, 'name': 'norton/meck', 'url': ...</td>\n",
       "      <td>{'id': 72710, 'login': 'norton', 'gravatar_id'...</td>\n",
       "      <td>None</td>\n",
       "      <td>2016-01-01 23:34:11+00:00</td>\n",
       "      <td>3487487228</td>\n",
       "      <td>None</td>\n",
       "    </tr>\n",
       "    <tr>\n",
       "      <th>2</th>\n",
       "      <td>PushEvent</td>\n",
       "      <td>True</td>\n",
       "      <td>{\"push_id\":920061697,\"size\":1,\"distinct_size\":...</td>\n",
       "      <td>{'id': 19862061, 'name': 'topepo/caret', 'url'...</td>\n",
       "      <td>{'id': 5731043, 'login': 'topepo', 'gravatar_i...</td>\n",
       "      <td>None</td>\n",
       "      <td>2016-01-01 20:06:07+00:00</td>\n",
       "      <td>3487341148</td>\n",
       "      <td>None</td>\n",
       "    </tr>\n",
       "    <tr>\n",
       "      <th>3</th>\n",
       "      <td>PushEvent</td>\n",
       "      <td>True</td>\n",
       "      <td>{\"push_id\":919978686,\"size\":3,\"distinct_size\":...</td>\n",
       "      <td>{'id': 39218504, 'name': 'Krast76/common', 'ur...</td>\n",
       "      <td>{'id': 4219270, 'login': 'Krast76', 'gravatar_...</td>\n",
       "      <td>None</td>\n",
       "      <td>2016-01-01 15:25:21+00:00</td>\n",
       "      <td>3487149030</td>\n",
       "      <td>None</td>\n",
       "    </tr>\n",
       "    <tr>\n",
       "      <th>4</th>\n",
       "      <td>CreateEvent</td>\n",
       "      <td>True</td>\n",
       "      <td>{\"ref\":\"master\",\"ref_type\":\"branch\",\"master_br...</td>\n",
       "      <td>{'id': 48877890, 'name': 'jdeneux/budget', 'ur...</td>\n",
       "      <td>{'id': 8156171, 'login': 'jdeneux', 'gravatar_...</td>\n",
       "      <td>None</td>\n",
       "      <td>2016-01-01 12:46:26+00:00</td>\n",
       "      <td>3487056451</td>\n",
       "      <td>None</td>\n",
       "    </tr>\n",
       "  </tbody>\n",
       "</table>\n",
       "</div>"
      ],
      "text/plain": [
       "          type  public                                            payload  \\\n",
       "0    PushEvent    True  {\"push_id\":920058756,\"size\":1,\"distinct_size\":...   \n",
       "1    PushEvent    True  {\"push_id\":920125576,\"size\":9,\"distinct_size\":...   \n",
       "2    PushEvent    True  {\"push_id\":920061697,\"size\":1,\"distinct_size\":...   \n",
       "3    PushEvent    True  {\"push_id\":919978686,\"size\":3,\"distinct_size\":...   \n",
       "4  CreateEvent    True  {\"ref\":\"master\",\"ref_type\":\"branch\",\"master_br...   \n",
       "\n",
       "                                                repo  \\\n",
       "0  {'id': 41537695, 'name': 'vamen/ksit', 'url': ...   \n",
       "1  {'id': 1164088, 'name': 'norton/meck', 'url': ...   \n",
       "2  {'id': 19862061, 'name': 'topepo/caret', 'url'...   \n",
       "3  {'id': 39218504, 'name': 'Krast76/common', 'ur...   \n",
       "4  {'id': 48877890, 'name': 'jdeneux/budget', 'ur...   \n",
       "\n",
       "                                               actor   org  \\\n",
       "0  {'id': 12099000, 'login': 'vamen', 'gravatar_i...  None   \n",
       "1  {'id': 72710, 'login': 'norton', 'gravatar_id'...  None   \n",
       "2  {'id': 5731043, 'login': 'topepo', 'gravatar_i...  None   \n",
       "3  {'id': 4219270, 'login': 'Krast76', 'gravatar_...  None   \n",
       "4  {'id': 8156171, 'login': 'jdeneux', 'gravatar_...  None   \n",
       "\n",
       "                 created_at          id other  \n",
       "0 2016-01-01 19:57:17+00:00  3487334586  None  \n",
       "1 2016-01-01 23:34:11+00:00  3487487228  None  \n",
       "2 2016-01-01 20:06:07+00:00  3487341148  None  \n",
       "3 2016-01-01 15:25:21+00:00  3487149030  None  \n",
       "4 2016-01-01 12:46:26+00:00  3487056451  None  "
      ]
     },
     "execution_count": 31,
     "metadata": {},
     "output_type": "execute_result"
    }
   ],
   "source": [
    "after_df = query.to_dataframe() \n",
    "after_df.head()"
   ]
  },
  {
   "cell_type": "markdown",
   "metadata": {},
   "source": [
    "\n",
    "\n",
    "**Issues to point out**\n",
    "\n",
    "* The two schemas(Timeline API & Events API) are the same, but the values ​​of payload and type are different.\n"
   ]
  },
  {
   "cell_type": "code",
   "execution_count": 35,
   "metadata": {},
   "outputs": [
    {
     "data": {
      "text/plain": [
       "PushEvent             417\n",
       "CreateEvent           292\n",
       "WatchEvent             90\n",
       "IssueCommentEvent      45\n",
       "IssuesEvent            31\n",
       "ForkEvent              22\n",
       "GollumEvent            19\n",
       "GistEvent              17\n",
       "FollowEvent            16\n",
       "PullRequestEvent       13\n",
       "CommitCommentEvent     11\n",
       "DownloadEvent           6\n",
       "DeleteEvent             5\n",
       "MemberEvent             4\n",
       "ForkApplyEvent          2\n",
       "Name: type, dtype: int64"
      ]
     },
     "execution_count": 35,
     "metadata": {},
     "output_type": "execute_result"
    }
   ],
   "source": [
    "# type on timeline API schema\n",
    "before_df.type.value_counts()"
   ]
  },
  {
   "cell_type": "code",
   "execution_count": 36,
   "metadata": {},
   "outputs": [
    {
     "data": {
      "text/plain": [
       "PushEvent                        587\n",
       "CreateEvent                      121\n",
       "WatchEvent                       103\n",
       "IssueCommentEvent                 56\n",
       "IssuesEvent                       41\n",
       "PullRequestEvent                  38\n",
       "ForkEvent                         26\n",
       "DeleteEvent                       15\n",
       "GollumEvent                        8\n",
       "ReleaseEvent                       6\n",
       "MemberEvent                        5\n",
       "PullRequestReviewCommentEvent      4\n",
       "PublicEvent                        2\n",
       "CommitCommentEvent                 2\n",
       "Name: type, dtype: int64"
      ]
     },
     "execution_count": 36,
     "metadata": {},
     "output_type": "execute_result"
    }
   ],
   "source": [
    "# type on Events API schema\n",
    "after_df.type.value_counts()"
   ]
  },
  {
   "cell_type": "code",
   "execution_count": 44,
   "metadata": {},
   "outputs": [
    {
     "name": "stdout",
     "output_type": "stream",
     "text": [
      "removed events : {'GistEvent', 'FollowEvent', 'DownloadEvent', 'ForkApplyEvent'}\n",
      "added events : {'PullRequestReviewCommentEvent', 'ReleaseEvent', 'PublicEvent'}\n"
     ]
    }
   ],
   "source": [
    "removed_events = (\n",
    "    set(before_df.type.unique()) - set(after_df.type.unique()))\n",
    "print(f\"removed events : {removed_events}\")\n",
    "\n",
    "added_events = (\n",
    "    set(after_df.type.unique()) - set(before_df.type.unique()))\n",
    "print(f\"added events : {added_events}\")"
   ]
  },
  {
   "cell_type": "markdown",
   "metadata": {},
   "source": [
    "---"
   ]
  },
  {
   "cell_type": "markdown",
   "metadata": {},
   "source": [
    "## 1. Explore `type` column"
   ]
  },
  {
   "cell_type": "code",
   "execution_count": 67,
   "metadata": {},
   "outputs": [],
   "source": [
    "%%bigquery type_counts\n",
    "\n",
    "SELECT type, count(type) as count, MIN(payload) as payload\n",
    "FROM githubarchive.month.201501\n",
    "GROUP BY type\n",
    "ORDER BY count DESC"
   ]
  },
  {
   "cell_type": "code",
   "execution_count": 68,
   "metadata": {},
   "outputs": [
    {
     "data": {
      "text/html": [
       "<div>\n",
       "<style scoped>\n",
       "    .dataframe tbody tr th:only-of-type {\n",
       "        vertical-align: middle;\n",
       "    }\n",
       "\n",
       "    .dataframe tbody tr th {\n",
       "        vertical-align: top;\n",
       "    }\n",
       "\n",
       "    .dataframe thead th {\n",
       "        text-align: right;\n",
       "    }\n",
       "</style>\n",
       "<table border=\"1\" class=\"dataframe\">\n",
       "  <thead>\n",
       "    <tr style=\"text-align: right;\">\n",
       "      <th></th>\n",
       "      <th>type</th>\n",
       "      <th>count</th>\n",
       "      <th>payload</th>\n",
       "    </tr>\n",
       "  </thead>\n",
       "  <tbody>\n",
       "    <tr>\n",
       "      <th>0</th>\n",
       "      <td>PushEvent</td>\n",
       "      <td>7225701</td>\n",
       "      <td>{\"push_id\":536740396,\"size\":1,\"distinct_size\":...</td>\n",
       "    </tr>\n",
       "    <tr>\n",
       "      <th>1</th>\n",
       "      <td>CreateEvent</td>\n",
       "      <td>1692562</td>\n",
       "      <td>{\"ref\":\"!@#$%\",\"ref_type\":\"branch\",\"master_bra...</td>\n",
       "    </tr>\n",
       "    <tr>\n",
       "      <th>2</th>\n",
       "      <td>WatchEvent</td>\n",
       "      <td>1356759</td>\n",
       "      <td>{\"action\":\"started\"}</td>\n",
       "    </tr>\n",
       "    <tr>\n",
       "      <th>3</th>\n",
       "      <td>IssueCommentEvent</td>\n",
       "      <td>1351054</td>\n",
       "      <td>{\"action\":\"created\",\"issue\":{\"url\":\"https://ap...</td>\n",
       "    </tr>\n",
       "    <tr>\n",
       "      <th>4</th>\n",
       "      <td>IssuesEvent</td>\n",
       "      <td>710947</td>\n",
       "      <td>{\"action\":\"closed\",\"issue\":{\"url\":\"https://api...</td>\n",
       "    </tr>\n",
       "    <tr>\n",
       "      <th>5</th>\n",
       "      <td>PullRequestEvent</td>\n",
       "      <td>696020</td>\n",
       "      <td>{\"action\":\"closed\",\"number\":1,\"pull_request\":{...</td>\n",
       "    </tr>\n",
       "    <tr>\n",
       "      <th>6</th>\n",
       "      <td>ForkEvent</td>\n",
       "      <td>502606</td>\n",
       "      <td>{\"forkee\":{\"id\":28677549,\"name\":\"macvim\",\"full...</td>\n",
       "    </tr>\n",
       "    <tr>\n",
       "      <th>7</th>\n",
       "      <td>DeleteEvent</td>\n",
       "      <td>263197</td>\n",
       "      <td>{\"ref\":\"!NoTaint\",\"ref_type\":\"branch\",\"pusher_...</td>\n",
       "    </tr>\n",
       "    <tr>\n",
       "      <th>8</th>\n",
       "      <td>PullRequestReviewCommentEvent</td>\n",
       "      <td>217630</td>\n",
       "      <td>{\"action\":\"created\",\"comment\":{\"url\":\"https://...</td>\n",
       "    </tr>\n",
       "    <tr>\n",
       "      <th>9</th>\n",
       "      <td>GollumEvent</td>\n",
       "      <td>154457</td>\n",
       "      <td>{\"pages\":[{\"page_name\":\"  MySQL\",\"title\":\"MySQ...</td>\n",
       "    </tr>\n",
       "    <tr>\n",
       "      <th>10</th>\n",
       "      <td>CommitCommentEvent</td>\n",
       "      <td>98498</td>\n",
       "      <td>{\"comment\":{\"url\":\"https://api.github.com/repo...</td>\n",
       "    </tr>\n",
       "    <tr>\n",
       "      <th>11</th>\n",
       "      <td>MemberEvent</td>\n",
       "      <td>71346</td>\n",
       "      <td>{\"member\":{\"login\":\"0-wiz-0\",\"id\":2221844,\"ava...</td>\n",
       "    </tr>\n",
       "    <tr>\n",
       "      <th>12</th>\n",
       "      <td>ReleaseEvent</td>\n",
       "      <td>45455</td>\n",
       "      <td>{\"action\":\"published\",\"release\":{\"url\":\"https:...</td>\n",
       "    </tr>\n",
       "    <tr>\n",
       "      <th>13</th>\n",
       "      <td>PublicEvent</td>\n",
       "      <td>15013</td>\n",
       "      <td>{}</td>\n",
       "    </tr>\n",
       "  </tbody>\n",
       "</table>\n",
       "</div>"
      ],
      "text/plain": [
       "                             type    count  \\\n",
       "0                       PushEvent  7225701   \n",
       "1                     CreateEvent  1692562   \n",
       "2                      WatchEvent  1356759   \n",
       "3               IssueCommentEvent  1351054   \n",
       "4                     IssuesEvent   710947   \n",
       "5                PullRequestEvent   696020   \n",
       "6                       ForkEvent   502606   \n",
       "7                     DeleteEvent   263197   \n",
       "8   PullRequestReviewCommentEvent   217630   \n",
       "9                     GollumEvent   154457   \n",
       "10             CommitCommentEvent    98498   \n",
       "11                    MemberEvent    71346   \n",
       "12                   ReleaseEvent    45455   \n",
       "13                    PublicEvent    15013   \n",
       "\n",
       "                                              payload  \n",
       "0   {\"push_id\":536740396,\"size\":1,\"distinct_size\":...  \n",
       "1   {\"ref\":\"!@#$%\",\"ref_type\":\"branch\",\"master_bra...  \n",
       "2                                {\"action\":\"started\"}  \n",
       "3   {\"action\":\"created\",\"issue\":{\"url\":\"https://ap...  \n",
       "4   {\"action\":\"closed\",\"issue\":{\"url\":\"https://api...  \n",
       "5   {\"action\":\"closed\",\"number\":1,\"pull_request\":{...  \n",
       "6   {\"forkee\":{\"id\":28677549,\"name\":\"macvim\",\"full...  \n",
       "7   {\"ref\":\"!NoTaint\",\"ref_type\":\"branch\",\"pusher_...  \n",
       "8   {\"action\":\"created\",\"comment\":{\"url\":\"https://...  \n",
       "9   {\"pages\":[{\"page_name\":\"  MySQL\",\"title\":\"MySQ...  \n",
       "10  {\"comment\":{\"url\":\"https://api.github.com/repo...  \n",
       "11  {\"member\":{\"login\":\"0-wiz-0\",\"id\":2221844,\"ava...  \n",
       "12  {\"action\":\"published\",\"release\":{\"url\":\"https:...  \n",
       "13                                                 {}  "
      ]
     },
     "execution_count": 68,
     "metadata": {},
     "output_type": "execute_result"
    }
   ],
   "source": [
    "type_counts"
   ]
  },
  {
   "cell_type": "markdown",
   "metadata": {},
   "source": [
    "A total of 14 events occurred in a month, and each event has the following meanings according to the Github site.\n",
    "\n",
    "* Reference : [github developer : Webhook event payloads](https://developer.github.com/webhooks/event-payloads/#push)\n",
    "\n",
    "\n",
    "| Event Name      | Event Description    |\n",
    "|:---- |:--- |\n",
    "|PushEvent| One or more commits are pushed to a repository branch or tag. |\n",
    "|CreateEvent| A Git branch or tag is created. For more information, see the \"Git data\" REST API. |\n",
    "|WatchEvent| When someone stars a repository |\n",
    "|IssueCommentEvent| Activity related to an issue comment |\n",
    "|IssuesEvent| Activity related to an issue |\n",
    "|PullRequestEvent| Activity related to pull requests. |\n",
    "|ForkEvent| A user forks a repository |\n",
    "|DeleteEvent| A Git branch or tag is deleted |\n",
    "|PullRequestReviewCommentEvent| Activity related to pull request review comments in the pull request's unified diff |\n",
    "|GollumEvent| A wiki page is created or updated |\n",
    "|CommitCommentEvent| A commit comment is created |\n",
    "|MemberEvent| Activity related to repository collaborators |\n",
    "|ReleaseEvent| Activity related to a release |\n",
    "|PublicEvent|  |\n",
    " "
   ]
  },
  {
   "cell_type": "markdown",
   "metadata": {},
   "source": [
    "## 2. Explore `payload` column\n",
    "\n",
    "\n",
    "Payload has a different structure for each type."
   ]
  },
  {
   "cell_type": "code",
   "execution_count": 104,
   "metadata": {},
   "outputs": [
    {
     "name": "stdout",
     "output_type": "stream",
     "text": [
      "PushEvent : ['push_id', 'size', 'distinct_size', 'ref', 'head', 'before', 'commits']\n",
      "\n",
      "--------------------------\n",
      "\n",
      "CreateEvent : ['ref', 'ref_type', 'master_branch', 'description', 'pusher_type']\n",
      "\n",
      "--------------------------\n",
      "\n",
      "WatchEvent : ['action']\n",
      "\n",
      "--------------------------\n",
      "\n",
      "IssueCommentEvent : ['action', 'issue', 'comment']\n",
      "\n",
      "--------------------------\n",
      "\n",
      "IssuesEvent : ['action', 'issue']\n",
      "\n",
      "--------------------------\n",
      "\n",
      "PullRequestEvent : ['action', 'number', 'pull_request']\n",
      "\n",
      "--------------------------\n",
      "\n",
      "ForkEvent : ['forkee']\n",
      "\n",
      "--------------------------\n",
      "\n",
      "DeleteEvent : ['ref', 'ref_type', 'pusher_type']\n",
      "\n",
      "--------------------------\n",
      "\n",
      "PullRequestReviewCommentEvent : ['action', 'comment', 'pull_request']\n",
      "\n",
      "--------------------------\n",
      "\n",
      "GollumEvent : ['pages']\n",
      "\n",
      "--------------------------\n",
      "\n",
      "CommitCommentEvent : ['comment']\n",
      "\n",
      "--------------------------\n",
      "\n",
      "MemberEvent : ['member', 'action']\n",
      "\n",
      "--------------------------\n",
      "\n",
      "ReleaseEvent : ['action', 'release']\n",
      "\n",
      "--------------------------\n",
      "\n",
      "PublicEvent : []\n",
      "\n",
      "--------------------------\n",
      "\n"
     ]
    }
   ],
   "source": [
    "import json\n",
    "\n",
    "for idx, row in type_counts.iterrows():\n",
    "    payload = list(json.loads(row.payload).keys())\n",
    "    print(f\"{row.type} : {payload}\")\n",
    "    print(\"\\n--------------------------\\n\")"
   ]
  },
  {
   "cell_type": "markdown",
   "metadata": {},
   "source": [
    "### Explore `repo` Column"
   ]
  },
  {
   "cell_type": "markdown",
   "metadata": {},
   "source": [
    "####  Top 10 Repository with the most stars"
   ]
  },
  {
   "cell_type": "code",
   "execution_count": 92,
   "metadata": {},
   "outputs": [],
   "source": [
    "%%bigquery repo_counts\n",
    "\n",
    "SELECT \n",
    "    repo.id as repo_id, \n",
    "    MIN(repo.name) as repo_name,  \n",
    "    MIN(repo.url) as repo_url,\n",
    "    COUNT(repo.id) as count\n",
    "FROM githubarchive.month.201501\n",
    "WHERE type = 'WatchEvent'\n",
    "GROUP BY repo.id\n",
    "ORDER BY count DESC\n",
    "LIMIT 10"
   ]
  },
  {
   "cell_type": "code",
   "execution_count": 93,
   "metadata": {},
   "outputs": [
    {
     "data": {
      "text/plain": [
       "0                          alex/what-happens-when\n",
       "1                     prakhar1989/awesome-courses\n",
       "2                          yaronn/blessed-contrib\n",
       "3                    tiimgreen/github-cheat-sheet\n",
       "4    h5bp/Front-end-Developer-Interview-Questions\n",
       "5                         daniel-lundin/snabbt.js\n",
       "6                                  gorhill/uBlock\n",
       "7                           libreboard/libreboard\n",
       "8                             sophron/wifiphisher\n",
       "9                                   IanLunn/Hover\n",
       "Name: repo_name, dtype: object"
      ]
     },
     "execution_count": 93,
     "metadata": {},
     "output_type": "execute_result"
    }
   ],
   "source": [
    "repo_counts.repo_name.loc[:10]"
   ]
  },
  {
   "cell_type": "markdown",
   "metadata": {},
   "source": [
    "#### Top 10 Repository with the most commit & Push"
   ]
  },
  {
   "cell_type": "code",
   "execution_count": 95,
   "metadata": {},
   "outputs": [],
   "source": [
    "%%bigquery repo_counts\n",
    "\n",
    "SELECT \n",
    "    repo.id as repo_id, \n",
    "    MIN(repo.name) as repo_name,  \n",
    "    MIN(repo.url) as repo_url,\n",
    "    COUNT(repo.id) as count\n",
    "FROM githubarchive.month.201501\n",
    "WHERE type = 'PushEvent'\n",
    "GROUP BY repo.id\n",
    "ORDER BY count DESC\n",
    "LIMIT 10"
   ]
  },
  {
   "cell_type": "code",
   "execution_count": 96,
   "metadata": {},
   "outputs": [
    {
     "data": {
      "text/html": [
       "<div>\n",
       "<style scoped>\n",
       "    .dataframe tbody tr th:only-of-type {\n",
       "        vertical-align: middle;\n",
       "    }\n",
       "\n",
       "    .dataframe tbody tr th {\n",
       "        vertical-align: top;\n",
       "    }\n",
       "\n",
       "    .dataframe thead th {\n",
       "        text-align: right;\n",
       "    }\n",
       "</style>\n",
       "<table border=\"1\" class=\"dataframe\">\n",
       "  <thead>\n",
       "    <tr style=\"text-align: right;\">\n",
       "      <th></th>\n",
       "      <th>repo_id</th>\n",
       "      <th>repo_name</th>\n",
       "      <th>repo_url</th>\n",
       "      <th>count</th>\n",
       "    </tr>\n",
       "  </thead>\n",
       "  <tbody>\n",
       "    <tr>\n",
       "      <th>0</th>\n",
       "      <td>21481110</td>\n",
       "      <td>KenanSulayman/heartbeat</td>\n",
       "      <td>https://api.github.com/repos/KenanSulayman/hea...</td>\n",
       "      <td>58277</td>\n",
       "    </tr>\n",
       "    <tr>\n",
       "      <th>1</th>\n",
       "      <td>15100395</td>\n",
       "      <td>greatfire/wiki</td>\n",
       "      <td>https://api.github.com/repos/greatfire/wiki</td>\n",
       "      <td>24793</td>\n",
       "    </tr>\n",
       "    <tr>\n",
       "      <th>2</th>\n",
       "      <td>6058234</td>\n",
       "      <td>sakai-mirror/melete</td>\n",
       "      <td>https://api.github.com/repos/sakai-mirror/melete</td>\n",
       "      <td>22707</td>\n",
       "    </tr>\n",
       "    <tr>\n",
       "      <th>3</th>\n",
       "      <td>25173910</td>\n",
       "      <td>qdm/qdm.github.io</td>\n",
       "      <td>https://api.github.com/repos/qdm/qdm.github.io</td>\n",
       "      <td>21369</td>\n",
       "    </tr>\n",
       "    <tr>\n",
       "      <th>4</th>\n",
       "      <td>26289381</td>\n",
       "      <td>efa2000/efa2000.github.io</td>\n",
       "      <td>https://api.github.com/repos/efa2000/efa2000.g...</td>\n",
       "      <td>14187</td>\n",
       "    </tr>\n",
       "    <tr>\n",
       "      <th>5</th>\n",
       "      <td>18126008</td>\n",
       "      <td>greatfire/z</td>\n",
       "      <td>https://api.github.com/repos/greatfire/z</td>\n",
       "      <td>11337</td>\n",
       "    </tr>\n",
       "    <tr>\n",
       "      <th>6</th>\n",
       "      <td>22027821</td>\n",
       "      <td>wmst/wmidbot</td>\n",
       "      <td>https://api.github.com/repos/wmst/wmidbot</td>\n",
       "      <td>8178</td>\n",
       "    </tr>\n",
       "    <tr>\n",
       "      <th>7</th>\n",
       "      <td>7588969</td>\n",
       "      <td>xenim/livestatus-publicpage</td>\n",
       "      <td>https://api.github.com/repos/xenim/livestatus-...</td>\n",
       "      <td>6001</td>\n",
       "    </tr>\n",
       "    <tr>\n",
       "      <th>8</th>\n",
       "      <td>9457897</td>\n",
       "      <td>SeleniumHQ/irc-logs</td>\n",
       "      <td>https://api.github.com/repos/SeleniumHQ/irc-logs</td>\n",
       "      <td>5486</td>\n",
       "    </tr>\n",
       "    <tr>\n",
       "      <th>9</th>\n",
       "      <td>26505810</td>\n",
       "      <td>cn-nytimes/mirrors</td>\n",
       "      <td>https://api.github.com/repos/cn-nytimes/mirrors</td>\n",
       "      <td>5429</td>\n",
       "    </tr>\n",
       "  </tbody>\n",
       "</table>\n",
       "</div>"
      ],
      "text/plain": [
       "    repo_id                    repo_name  \\\n",
       "0  21481110      KenanSulayman/heartbeat   \n",
       "1  15100395               greatfire/wiki   \n",
       "2   6058234          sakai-mirror/melete   \n",
       "3  25173910            qdm/qdm.github.io   \n",
       "4  26289381    efa2000/efa2000.github.io   \n",
       "5  18126008                  greatfire/z   \n",
       "6  22027821                 wmst/wmidbot   \n",
       "7   7588969  xenim/livestatus-publicpage   \n",
       "8   9457897          SeleniumHQ/irc-logs   \n",
       "9  26505810           cn-nytimes/mirrors   \n",
       "\n",
       "                                            repo_url  count  \n",
       "0  https://api.github.com/repos/KenanSulayman/hea...  58277  \n",
       "1        https://api.github.com/repos/greatfire/wiki  24793  \n",
       "2   https://api.github.com/repos/sakai-mirror/melete  22707  \n",
       "3     https://api.github.com/repos/qdm/qdm.github.io  21369  \n",
       "4  https://api.github.com/repos/efa2000/efa2000.g...  14187  \n",
       "5           https://api.github.com/repos/greatfire/z  11337  \n",
       "6          https://api.github.com/repos/wmst/wmidbot   8178  \n",
       "7  https://api.github.com/repos/xenim/livestatus-...   6001  \n",
       "8   https://api.github.com/repos/SeleniumHQ/irc-logs   5486  \n",
       "9    https://api.github.com/repos/cn-nytimes/mirrors   5429  "
      ]
     },
     "execution_count": 96,
     "metadata": {},
     "output_type": "execute_result"
    }
   ],
   "source": [
    "repo_counts"
   ]
  },
  {
   "cell_type": "markdown",
   "metadata": {},
   "source": [
    "#### Top 10 Repository with the most active issues"
   ]
  },
  {
   "cell_type": "code",
   "execution_count": 99,
   "metadata": {},
   "outputs": [],
   "source": [
    "%%bigquery repo_counts\n",
    "\n",
    "SELECT \n",
    "    repo.id as repo_id, \n",
    "    MIN(repo.name) as repo_name,  \n",
    "    MIN(repo.url) as repo_url,\n",
    "    COUNT(repo.id) as count\n",
    "FROM githubarchive.month.201501\n",
    "WHERE type = 'IssueEvent' or type = \"IssueCommentEvent\"\n",
    "GROUP BY repo.id\n",
    "ORDER BY count DESC\n",
    "LIMIT 10"
   ]
  },
  {
   "cell_type": "code",
   "execution_count": 100,
   "metadata": {},
   "outputs": [
    {
     "data": {
      "text/html": [
       "<div>\n",
       "<style scoped>\n",
       "    .dataframe tbody tr th:only-of-type {\n",
       "        vertical-align: middle;\n",
       "    }\n",
       "\n",
       "    .dataframe tbody tr th {\n",
       "        vertical-align: top;\n",
       "    }\n",
       "\n",
       "    .dataframe thead th {\n",
       "        text-align: right;\n",
       "    }\n",
       "</style>\n",
       "<table border=\"1\" class=\"dataframe\">\n",
       "  <thead>\n",
       "    <tr style=\"text-align: right;\">\n",
       "      <th></th>\n",
       "      <th>repo_id</th>\n",
       "      <th>repo_name</th>\n",
       "      <th>repo_url</th>\n",
       "      <th>count</th>\n",
       "    </tr>\n",
       "  </thead>\n",
       "  <tbody>\n",
       "    <tr>\n",
       "      <th>0</th>\n",
       "      <td>17165658</td>\n",
       "      <td>apache/spark</td>\n",
       "      <td>https://api.github.com/repos/apache/spark</td>\n",
       "      <td>7529</td>\n",
       "    </tr>\n",
       "    <tr>\n",
       "      <th>1</th>\n",
       "      <td>5550552</td>\n",
       "      <td>owncloud/core</td>\n",
       "      <td>https://api.github.com/repos/owncloud/core</td>\n",
       "      <td>7381</td>\n",
       "    </tr>\n",
       "    <tr>\n",
       "      <th>2</th>\n",
       "      <td>724712</td>\n",
       "      <td>rust-lang/rust</td>\n",
       "      <td>https://api.github.com/repos/rust-lang/rust</td>\n",
       "      <td>7261</td>\n",
       "    </tr>\n",
       "    <tr>\n",
       "      <th>3</th>\n",
       "      <td>7691631</td>\n",
       "      <td>docker/docker</td>\n",
       "      <td>https://api.github.com/repos/docker/docker</td>\n",
       "      <td>5759</td>\n",
       "    </tr>\n",
       "    <tr>\n",
       "      <th>4</th>\n",
       "      <td>3234987</td>\n",
       "      <td>tgstation/-tg-station</td>\n",
       "      <td>https://api.github.com/repos/tgstation/-tg-sta...</td>\n",
       "      <td>4963</td>\n",
       "    </tr>\n",
       "    <tr>\n",
       "      <th>5</th>\n",
       "      <td>20580498</td>\n",
       "      <td>GoogleCloudPlatform/kubernetes</td>\n",
       "      <td>https://api.github.com/repos/GoogleCloudPlatfo...</td>\n",
       "      <td>4616</td>\n",
       "    </tr>\n",
       "    <tr>\n",
       "      <th>6</th>\n",
       "      <td>28710753</td>\n",
       "      <td>sphinx-doc/sphinx</td>\n",
       "      <td>https://api.github.com/repos/sphinx-doc/sphinx</td>\n",
       "      <td>4480</td>\n",
       "    </tr>\n",
       "    <tr>\n",
       "      <th>7</th>\n",
       "      <td>10969551</td>\n",
       "      <td>cms-sw/cmssw</td>\n",
       "      <td>https://api.github.com/repos/cms-sw/cmssw</td>\n",
       "      <td>4229</td>\n",
       "    </tr>\n",
       "    <tr>\n",
       "      <th>8</th>\n",
       "      <td>1644196</td>\n",
       "      <td>JuliaLang/julia</td>\n",
       "      <td>https://api.github.com/repos/JuliaLang/julia</td>\n",
       "      <td>3480</td>\n",
       "    </tr>\n",
       "    <tr>\n",
       "      <th>9</th>\n",
       "      <td>27193779</td>\n",
       "      <td>iojs/io.js</td>\n",
       "      <td>https://api.github.com/repos/iojs/io.js</td>\n",
       "      <td>3125</td>\n",
       "    </tr>\n",
       "  </tbody>\n",
       "</table>\n",
       "</div>"
      ],
      "text/plain": [
       "    repo_id                       repo_name  \\\n",
       "0  17165658                    apache/spark   \n",
       "1   5550552                   owncloud/core   \n",
       "2    724712                  rust-lang/rust   \n",
       "3   7691631                   docker/docker   \n",
       "4   3234987           tgstation/-tg-station   \n",
       "5  20580498  GoogleCloudPlatform/kubernetes   \n",
       "6  28710753               sphinx-doc/sphinx   \n",
       "7  10969551                    cms-sw/cmssw   \n",
       "8   1644196                 JuliaLang/julia   \n",
       "9  27193779                      iojs/io.js   \n",
       "\n",
       "                                            repo_url  count  \n",
       "0          https://api.github.com/repos/apache/spark   7529  \n",
       "1         https://api.github.com/repos/owncloud/core   7381  \n",
       "2        https://api.github.com/repos/rust-lang/rust   7261  \n",
       "3         https://api.github.com/repos/docker/docker   5759  \n",
       "4  https://api.github.com/repos/tgstation/-tg-sta...   4963  \n",
       "5  https://api.github.com/repos/GoogleCloudPlatfo...   4616  \n",
       "6     https://api.github.com/repos/sphinx-doc/sphinx   4480  \n",
       "7          https://api.github.com/repos/cms-sw/cmssw   4229  \n",
       "8       https://api.github.com/repos/JuliaLang/julia   3480  \n",
       "9            https://api.github.com/repos/iojs/io.js   3125  "
      ]
     },
     "execution_count": 100,
     "metadata": {},
     "output_type": "execute_result"
    }
   ],
   "source": [
    "repo_counts"
   ]
  },
  {
   "cell_type": "markdown",
   "metadata": {},
   "source": [
    "#### Top 10 Repository with the most forks"
   ]
  },
  {
   "cell_type": "code",
   "execution_count": 105,
   "metadata": {},
   "outputs": [],
   "source": [
    "%%bigquery repo_counts\n",
    "\n",
    "SELECT \n",
    "    repo.id as repo_id, \n",
    "    MIN(repo.name) as repo_name,  \n",
    "    MIN(repo.url) as repo_url,\n",
    "    COUNT(repo.id) as count\n",
    "FROM githubarchive.month.201501\n",
    "WHERE type = 'ForkEvent'\n",
    "GROUP BY repo.id\n",
    "ORDER BY count DESC\n",
    "LIMIT 10"
   ]
  },
  {
   "cell_type": "code",
   "execution_count": 106,
   "metadata": {},
   "outputs": [
    {
     "data": {
      "text/html": [
       "<div>\n",
       "<style scoped>\n",
       "    .dataframe tbody tr th:only-of-type {\n",
       "        vertical-align: middle;\n",
       "    }\n",
       "\n",
       "    .dataframe tbody tr th {\n",
       "        vertical-align: top;\n",
       "    }\n",
       "\n",
       "    .dataframe thead th {\n",
       "        text-align: right;\n",
       "    }\n",
       "</style>\n",
       "<table border=\"1\" class=\"dataframe\">\n",
       "  <thead>\n",
       "    <tr style=\"text-align: right;\">\n",
       "      <th></th>\n",
       "      <th>repo_id</th>\n",
       "      <th>repo_name</th>\n",
       "      <th>repo_url</th>\n",
       "      <th>count</th>\n",
       "    </tr>\n",
       "  </thead>\n",
       "  <tbody>\n",
       "    <tr>\n",
       "      <th>0</th>\n",
       "      <td>14204342</td>\n",
       "      <td>jtleek/datasharing</td>\n",
       "      <td>https://api.github.com/repos/jtleek/datasharing</td>\n",
       "      <td>11322</td>\n",
       "    </tr>\n",
       "    <tr>\n",
       "      <th>1</th>\n",
       "      <td>15917132</td>\n",
       "      <td>rdpeng/ProgrammingAssignment2</td>\n",
       "      <td>https://api.github.com/repos/rdpeng/Programmin...</td>\n",
       "      <td>6046</td>\n",
       "    </tr>\n",
       "    <tr>\n",
       "      <th>2</th>\n",
       "      <td>1300192</td>\n",
       "      <td>octocat/Spoon-Knife</td>\n",
       "      <td>https://api.github.com/repos/octocat/Spoon-Knife</td>\n",
       "      <td>4401</td>\n",
       "    </tr>\n",
       "    <tr>\n",
       "      <th>3</th>\n",
       "      <td>16659106</td>\n",
       "      <td>rdpeng/ExData_Plotting1</td>\n",
       "      <td>https://api.github.com/repos/rdpeng/ExData_Plo...</td>\n",
       "      <td>2164</td>\n",
       "    </tr>\n",
       "    <tr>\n",
       "      <th>4</th>\n",
       "      <td>16709733</td>\n",
       "      <td>rdpeng/RepData_PeerAssessment1</td>\n",
       "      <td>https://api.github.com/repos/rdpeng/RepData_Pe...</td>\n",
       "      <td>1247</td>\n",
       "    </tr>\n",
       "    <tr>\n",
       "      <th>5</th>\n",
       "      <td>24366295</td>\n",
       "      <td>udacity/frontend-nanodegree-resume</td>\n",
       "      <td>https://api.github.com/repos/udacity/frontend-...</td>\n",
       "      <td>1237</td>\n",
       "    </tr>\n",
       "    <tr>\n",
       "      <th>6</th>\n",
       "      <td>16599031</td>\n",
       "      <td>barryclark/jekyll-now</td>\n",
       "      <td>https://api.github.com/repos/barryclark/jekyll...</td>\n",
       "      <td>1066</td>\n",
       "    </tr>\n",
       "    <tr>\n",
       "      <th>7</th>\n",
       "      <td>2126244</td>\n",
       "      <td>twbs/bootstrap</td>\n",
       "      <td>https://api.github.com/repos/twbs/bootstrap</td>\n",
       "      <td>1055</td>\n",
       "    </tr>\n",
       "    <tr>\n",
       "      <th>8</th>\n",
       "      <td>460078</td>\n",
       "      <td>angular/angular.js</td>\n",
       "      <td>https://api.github.com/repos/angular/angular.js</td>\n",
       "      <td>908</td>\n",
       "    </tr>\n",
       "    <tr>\n",
       "      <th>9</th>\n",
       "      <td>24659289</td>\n",
       "      <td>LarryMad/recipes</td>\n",
       "      <td>https://api.github.com/repos/LarryMad/recipes</td>\n",
       "      <td>839</td>\n",
       "    </tr>\n",
       "  </tbody>\n",
       "</table>\n",
       "</div>"
      ],
      "text/plain": [
       "    repo_id                           repo_name  \\\n",
       "0  14204342                  jtleek/datasharing   \n",
       "1  15917132       rdpeng/ProgrammingAssignment2   \n",
       "2   1300192                 octocat/Spoon-Knife   \n",
       "3  16659106             rdpeng/ExData_Plotting1   \n",
       "4  16709733      rdpeng/RepData_PeerAssessment1   \n",
       "5  24366295  udacity/frontend-nanodegree-resume   \n",
       "6  16599031               barryclark/jekyll-now   \n",
       "7   2126244                      twbs/bootstrap   \n",
       "8    460078                  angular/angular.js   \n",
       "9  24659289                    LarryMad/recipes   \n",
       "\n",
       "                                            repo_url  count  \n",
       "0    https://api.github.com/repos/jtleek/datasharing  11322  \n",
       "1  https://api.github.com/repos/rdpeng/Programmin...   6046  \n",
       "2   https://api.github.com/repos/octocat/Spoon-Knife   4401  \n",
       "3  https://api.github.com/repos/rdpeng/ExData_Plo...   2164  \n",
       "4  https://api.github.com/repos/rdpeng/RepData_Pe...   1247  \n",
       "5  https://api.github.com/repos/udacity/frontend-...   1237  \n",
       "6  https://api.github.com/repos/barryclark/jekyll...   1066  \n",
       "7        https://api.github.com/repos/twbs/bootstrap   1055  \n",
       "8    https://api.github.com/repos/angular/angular.js    908  \n",
       "9      https://api.github.com/repos/LarryMad/recipes    839  "
      ]
     },
     "execution_count": 106,
     "metadata": {},
     "output_type": "execute_result"
    }
   ],
   "source": [
    "repo_counts"
   ]
  },
  {
   "cell_type": "markdown",
   "metadata": {},
   "source": [
    "### Explore `actor` Column"
   ]
  },
  {
   "cell_type": "markdown",
   "metadata": {},
   "source": [
    "#### How often do people push?"
   ]
  },
  {
   "cell_type": "code",
   "execution_count": 107,
   "metadata": {},
   "outputs": [],
   "source": [
    "%%bigquery actor_counts\n",
    "\n",
    "SELECT \n",
    "    actor.id as actor_id, \n",
    "    COUNT(repo.id) as count\n",
    "FROM githubarchive.month.201501\n",
    "WHERE type = 'PushEvent'\n",
    "GROUP BY actor_id\n",
    "ORDER BY count DESC"
   ]
  },
  {
   "cell_type": "code",
   "execution_count": 148,
   "metadata": {},
   "outputs": [
    {
     "data": {
      "image/png": "[encoded data removed]",
      "text/plain": [
       "<Figure size 432x288 with 1 Axes>"
      ]
     },
     "metadata": {},
     "output_type": "display_data"
    }
   ],
   "source": [
    "max_count = actor_counts['count'].quantile(0.99)\n",
    "min_count = actor_counts['count'].quantile(0.01)\n",
    "\n",
    "actor_counts['count'][\n",
    "    (actor_counts['count']<=max_count) & \n",
    "    (actor_counts['count']>=min_count)\n",
    "].hist(bins=100)\n",
    "plt.title(\"# nums of Commit\")\n",
    "plt.show()"
   ]
  },
  {
   "cell_type": "markdown",
   "metadata": {},
   "source": [
    "#### How often do people issue and comment\""
   ]
  },
  {
   "cell_type": "code",
   "execution_count": 150,
   "metadata": {},
   "outputs": [],
   "source": [
    "%%bigquery actor_counts\n",
    "\n",
    "SELECT \n",
    "    actor.id as actor_id, \n",
    "    COUNT(repo.id) as count\n",
    "FROM githubarchive.month.201501\n",
    "WHERE type = 'IssuesEvent' or type = 'IssueCommentEvent'\n",
    "GROUP BY actor_id\n",
    "ORDER BY count DESC"
   ]
  },
  {
   "cell_type": "code",
   "execution_count": 163,
   "metadata": {},
   "outputs": [
    {
     "data": {
      "text/html": [
       "<div>\n",
       "<style scoped>\n",
       "    .dataframe tbody tr th:only-of-type {\n",
       "        vertical-align: middle;\n",
       "    }\n",
       "\n",
       "    .dataframe tbody tr th {\n",
       "        vertical-align: top;\n",
       "    }\n",
       "\n",
       "    .dataframe thead th {\n",
       "        text-align: right;\n",
       "    }\n",
       "</style>\n",
       "<table border=\"1\" class=\"dataframe\">\n",
       "  <thead>\n",
       "    <tr style=\"text-align: right;\">\n",
       "      <th></th>\n",
       "      <th>c</th>\n",
       "    </tr>\n",
       "  </thead>\n",
       "  <tbody>\n",
       "    <tr>\n",
       "      <th>0</th>\n",
       "      <td>212174067</td>\n",
       "    </tr>\n",
       "  </tbody>\n",
       "</table>\n",
       "</div>"
      ],
      "text/plain": [
       "           c\n",
       "0  212174067"
      ]
     },
     "execution_count": 163,
     "metadata": {},
     "output_type": "execute_result"
    }
   ],
   "source": [
    "%%bigquery\n",
    "\n",
    "SELECT\n",
    "    COUNT(created_at) as c\n",
    "FROM \n",
    "    githubarchive.year.2015"
   ]
  },
  {
   "cell_type": "code",
   "execution_count": 164,
   "metadata": {},
   "outputs": [
    {
     "data": {
      "text/plain": [
       "212174067"
      ]
     },
     "execution_count": 164,
     "metadata": {},
     "output_type": "execute_result"
    }
   ],
   "source": [
    "212174067"
   ]
  },
  {
   "cell_type": "code",
   "execution_count": 151,
   "metadata": {},
   "outputs": [
    {
     "data": {
      "image/png": "[encoded data removed]",
      "text/plain": [
       "<Figure size 432x288 with 1 Axes>"
      ]
     },
     "metadata": {},
     "output_type": "display_data"
    }
   ],
   "source": [
    "max_count = actor_counts['count'].quantile(0.99)\n",
    "min_count = actor_counts['count'].quantile(0.01)\n",
    "\n",
    "actor_counts['count'][\n",
    "    (actor_counts['count']<=max_count) & \n",
    "    (actor_counts['count']>=min_count)\n",
    "].hist(bins=100)\n",
    "plt.title(\"# nums of Issues Comment Event\")\n",
    "plt.show()"
   ]
  },
  {
   "cell_type": "markdown",
   "metadata": {},
   "source": [
    "### Explore `created_at` Column"
   ]
  },
  {
   "cell_type": "code",
   "execution_count": 154,
   "metadata": {},
   "outputs": [],
   "source": [
    "%%bigquery timeserial\n",
    "\n",
    "SELECT \n",
    "    EXTRACT(DAY FROM created_at) AS day,\n",
    "    COUNT(created_at) as count\n",
    "FROM githubarchive.month.201501\n",
    "WHERE type = 'IssuesEvent' or type = 'IssueCommentEvent'\n",
    "GROUP BY day\n",
    "ORDER BY day ASC"
   ]
  },
  {
   "cell_type": "code",
   "execution_count": 157,
   "metadata": {},
   "outputs": [
    {
     "data": {
      "image/png": "[encoded data removed]",
      "text/plain": [
       "<Figure size 432x288 with 1 Axes>"
      ]
     },
     "metadata": {},
     "output_type": "display_data"
    }
   ],
   "source": [
    "timeserial.plot('day','count')\n",
    "plt.show()"
   ]
  }
 ],
 "metadata": {
  "kernelspec": {
   "display_name": "Python 3",
   "language": "python",
   "name": "python3"
  },
  "language_info": {
   "codemirror_mode": {
    "name": "ipython",
    "version": 3
   },
   "file_extension": ".py",
   "mimetype": "text/x-python",
   "name": "python",
   "nbconvert_exporter": "python",
   "pygments_lexer": "ipython3",
   "version": "3.6.8"
  },
  "toc": {
   "base_numbering": 1,
   "nav_menu": {},
   "number_sections": false,
   "sideBar": true,
   "skip_h1_title": false,
   "title_cell": "Table of Contents",
   "title_sidebar": "Contents",
   "toc_cell": false,
   "toc_position": {},
   "toc_section_display": true,
   "toc_window_display": false
  },
  "varInspector": {
   "cols": {
    "lenName": 16,
    "lenType": 16,
    "lenVar": 40
   },
   "kernels_config": {
    "python": {
     "delete_cmd_postfix": "",
     "delete_cmd_prefix": "del ",
     "library": "var_list.py",
     "varRefreshCmd": "print(var_dic_list())"
    },
    "r": {
     "delete_cmd_postfix": ") ",
     "delete_cmd_prefix": "rm(",
     "library": "var_list.r",
     "varRefreshCmd": "cat(var_dic_list()) "
    }
   },
   "types_to_exclude": [
    "module",
    "function",
    "builtin_function_or_method",
    "instance",
    "_Feature"
   ],
   "window_display": false
  }
 },
 "nbformat": 4,
 "nbformat_minor": 2
}
